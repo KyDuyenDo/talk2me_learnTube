{
 "cells": [
  {
   "cell_type": "code",
   "execution_count": null,
   "id": "e479c40b",
   "metadata": {},
   "outputs": [],
   "source": [
    "import os\n",
    "from openai import OpenAI\n",
    "from dotenv import load_dotenv"
   ]
  },
  {
   "cell_type": "code",
   "execution_count": 5,
   "id": "a834ff3c",
   "metadata": {},
   "outputs": [],
   "source": [
    "load_dotenv(override=True)\n",
    "\n",
    "openai = OpenAI(\n",
    "    base_url=\"https://openrouter.ai/api/v1\", api_key=os.getenv(\"OPENAI_API_KEY\")\n",
    ")"
   ]
  },
  {
   "cell_type": "code",
   "execution_count": null,
   "id": "3ba04398",
   "metadata": {},
   "outputs": [
    {
     "name": "stdout",
     "output_type": "stream",
     "text": [
      "When I was first learning to meditate, the instruction was to simply\n",
      "pay attention to my breath, and when my mind wandered,\n",
      "to bring it back. Sounded simple enough. Yet I'd sit on these silent retreats, sweating through T-shirts\n",
      "in the middle of winter. I'd take naps every chance I got\n",
      "because it was really hard work. Actually, it was exhausting. The instruction was simple enough but I was missing something\n",
      "really important. So why is it so hard to pay attention? Well, studies show that even when we're really\n",
      "trying to pay attention to something -- like maybe this talk -- at some point, about half of us\n",
      "will drift off into a daydream, or have this urge\n",
      "to check our Twitter feed. So what's going on here? It turns out that we're fighting one\n",
      "of the most evolutionarily-conserved learning processes\n",
      "currently known in science, one that's conserved back to the most basic\n",
      "nervous systems known to man. This reward-based learning process is called positive\n",
      "and negative reinforcement, and basically goes like this. We see some food that looks good, our brain says, \"Calories! ... Survival!\" We eat the food, we taste it -- it tastes good. And especially with sugar, our bodies send a signal\n",
      "to our brain that says, \"Remember what you're eating\n",
      "and where you found it.\" We lay down this context-dependent memory and learn to repeat the process next time. See food, eat food, feel good, repeat. Trigger, behavior, reward. Simple, right? Well, after a while,\n",
      "our creative brains say, \"You know what? You can use this for more\n",
      "than just remembering where food is. You know, next time you feel bad, why don't you try eating\n",
      "something good so you'll feel better?\" We thank our brains for the great idea, try this and quickly learn that if we eat chocolate or ice cream\n",
      "when we're mad or sad, we feel better. Same process, just a different trigger. Instead of this hunger signal\n",
      "coming from our stomach, this emotional signal -- feeling sad -- triggers that urge to eat. Maybe in our teenage years, we were a nerd at school, and we see those rebel kids\n",
      "outside smoking and we think, \"Hey, I want to be cool.\" So we start smoking. The Marlboro Man wasn't a dork,\n",
      "and that was no accident. See cool, smoke to be cool, feel good. Repeat. Trigger, behavior, reward. And each time we do this, we learn to repeat the process and it becomes a habit. So later, feeling stressed out triggers\n",
      "that urge to smoke a cigarette or to eat something sweet. Now, with these same brain processes, we've gone from learning to survive to literally killing ourselves\n",
      "with these habits. Obesity and smoking are among the leading preventable causes\n",
      "of morbidity and mortality in the world. So back to my breath. What if instead of fighting our brains, or trying to force ourselves\n",
      "to pay attention, we instead tapped into this natural,\n",
      "reward-based learning process ... but added a twist? What if instead we just got really curious about what was happening\n",
      "in our momentary experience? I'll give you an example. In my lab, we studied whether mindfulness training\n",
      "could help people quit smoking. Now, just like trying to force myself\n",
      "to pay attention to my breath, they could try to force\n",
      "themselves to quit smoking. And the majority of them\n",
      "had tried this before and failed -- on average, six times. Now, with mindfulness training, we dropped the bit about forcing\n",
      "and instead focused on being curious. In fact, we even told them to smoke. What? Yeah, we said, \"Go ahead and smoke, just be really curious\n",
      "about what it's like when you do.\" And what did they notice? Well here's an example\n",
      "from one of our smokers. She said, \"Mindful smoking: smells like stinky cheese and tastes like chemicals, YUCK!\" Now, she knew, cognitively\n",
      "that smoking was bad for her, that's why she joined our program. What she discovered just by being\n",
      "curiously aware when she smoked was that smoking tastes like shit. (Laughter) Now, she moved from knowledge to wisdom. She moved from knowing in her head\n",
      "that smoking was bad for her to knowing it in her bones, and the spell of smoking was broken. She started to become\n",
      "disenchanted with her behavior. Now, the prefrontal cortex, that youngest part of our brain\n",
      "from an evolutionary perspective, it understands on an intellectual level\n",
      "that we shouldn't smoke. And it tries its hardest\n",
      "to help us change our behavior, to help us stop smoking, to help us stop eating that second,\n",
      "that third, that fourth cookie. We call this cognitive control. We're using cognition\n",
      "to control our behavior. Unfortunately, this is also the first part of our brain that goes offline\n",
      "when we get stressed out, which isn't that helpful. Now, we can all relate to this\n",
      "in our own experience. We're much more likely to do things\n",
      "like yell at our spouse or kids when we're stressed out or tired, even though we know\n",
      "it's not going to be helpful. We just can't help ourselves. When the prefrontal cortex goes offline, we fall back into our old habits, which is why this disenchantment\n",
      "is so important. Seeing what we get from our habits helps us understand them\n",
      "at a deeper level -- to know it in our bones so we don't have to force\n",
      "ourselves to hold back or restrain ourselves from behavior. We're just less interested\n",
      "in doing it in the first place. And this is what mindfulness is all about: Seeing really clearly what we get\n",
      "when we get caught up in our behaviors, becoming disenchanted on a visceral level and from this disenchanted stance,\n",
      "naturally letting go. This isn't to say that, poof,\n",
      "magically we quit smoking. But over time, as we learn\n",
      "to see more and more clearly the results of our actions, we let go of old habits and form new ones. The paradox here is that mindfulness is just\n",
      "about being really interested in getting close and personal with what's actually happening\n",
      "in our bodies and minds from moment to moment. This willingness\n",
      "to turn toward our experience rather than trying to make unpleasant\n",
      "cravings go away as quickly as possible. And this willingness\n",
      "to turn toward our experience is supported by curiosity, which is naturally rewarding. What does curiosity feel like? It feels good. And what happens when we get curious? We start to notice that cravings\n",
      "are simply made up of body sensations -- oh, there's tightness, there's tension, there's restlessness -- and that these body\n",
      "sensations come and go. These are bite-size pieces of experiences that we can manage from moment to moment rather than getting clobbered\n",
      "by this huge, scary craving that we choke on. In other words, when we get curious, we step out of our old,\n",
      "fear-based, reactive habit patterns, and we step into being. We become this inner scientist where we're eagerly awaiting\n",
      "that next data point. Now, this might sound\n",
      "too simplistic to affect behavior. But in one study,\n",
      "we found that mindfulness training was twice as good as gold standard therapy\n",
      "at helping people quit smoking. So it actually works. And when we studied\n",
      "the brains of experienced meditators, we found that parts of a neural network\n",
      "of self-referential processing called the default mode network were at play. Now, one current hypothesis\n",
      "is that a region of this network, called the posterior cingulate cortex, is activated not necessarily\n",
      "by craving itself but when we get caught up in it,\n",
      "when we get sucked in, and it takes us for a ride. In contrast, when we let go -- step out of the process just by being curiously aware\n",
      "of what's happening -- this same brain region quiets down. Now we're testing app and online-based\n",
      "mindfulness training programs that target these core mechanisms and, ironically, use the same technology\n",
      "that's driving us to distraction to help us step out\n",
      "of our unhealthy habit patterns of smoking, of stress eating\n",
      "and other addictive behaviors. Now, remember that bit\n",
      "about context-dependent memory? We can deliver these tools\n",
      "to peoples' fingertips in the contexts that matter most. So we can help them tap into their inherent capacity\n",
      "to be curiously aware right when that urge to smoke\n",
      "or stress eat or whatever arises. So if you don't smoke or stress eat, maybe the next time you feel this urge\n",
      "to check your email when you're bored, or you're trying to distract\n",
      "yourself from work, or maybe to compulsively respond\n",
      "to that text message when you're driving, see if you can tap into\n",
      "this natural capacity, just be curiously aware of what's happening in your body\n",
      "and mind in that moment. It will just be another chance to perpetuate one of our endless\n",
      "and exhaustive habit loops ... or step out of it. Instead of see text message,\n",
      "compulsively text back, feel a little bit better -- notice the urge, get curious, feel the joy of letting go and repeat. Thank you. (Applause)\n"
     ]
    }
   ],
   "source": [
    "from youtube_transcript_api import YouTubeTranscriptApi\n",
    "\n",
    "def get_transcript(video_id: str, max_minutes: int) -> str:\n",
    "    \"\"\"\n",
    "    Fetch transcript from YouTube video and join into one text.\n",
    "    :param video_id: YouTube video ID (e.g. \"dQw4w9WgXcQ\")\n",
    "    :return: Full transcript as a single string\n",
    "    \"\"\"\n",
    "    ytt_api = YouTubeTranscriptApi()\n",
    "    data = ytt_api.fetch(video_id)\n",
    "    transcript = data.to_raw_data()\n",
    "    \n",
    "    max_seconds = max_minutes * 60\n",
    "    limited_transcript = [\n",
    "        entry['text'] \n",
    "        for entry in transcript \n",
    "        if entry['start'] <= max_seconds and entry['text'].strip() != ''\n",
    "    ]\n",
    "    \n",
    "    full_text = \" \".join(limited_transcript)\n",
    "    \n",
    "    return full_text\n",
    "\n",
    "video_id = \"-moW9jvvMr4\" \n",
    "transcript_text = get_transcript(video_id, 10)\n",
    "\n",
    "print(transcript_text)\n"
   ]
  },
  {
   "cell_type": "code",
   "execution_count": 43,
   "id": "5e46b8b5",
   "metadata": {},
   "outputs": [],
   "source": [
    "system_prompt = \"\"\"\n",
    "You are an AI English Teaching Assistant specializing in grammar and vocabulary.  \n",
    "Your task: process English subtitles from a YouTube conversation and create a quiz.  \n",
    "\n",
    "Instructions:\n",
    "1. Identify important **grammar structures** (tenses, prepositions, articles, etc.) and **vocabulary** (meaning, usage, collocations).  \n",
    "2. Generate **multiple-choice questions (MCQs)** in this JSON format:\n",
    "   {\n",
    "     \"question\": \"...\",\n",
    "     \"options\": [\"A\", \"B\", \"C\", \"D\"],\n",
    "     \"correct_answer\": \"A\",\n",
    "     \"explanation\": \"...\"\n",
    "   }\n",
    "3. Rules:\n",
    "   - Use **natural English only** (no Vietnamese).  \n",
    "   - Each MCQ must relate to the transcript.  \n",
    "   - Focus only on **grammar and vocabulary** (no cultural/context questions).  \n",
    "   - Explanations must be clear, like a teacher explaining to students.  \n",
    "   - You MUST create **at least 10 MCQs** (preferably 12–15).  \n",
    "   - Ensure the output is a **valid JSON array** that matches the Pydantic model.  \n",
    "\"\"\"\n"
   ]
  },
  {
   "cell_type": "code",
   "execution_count": null,
   "id": "71092552",
   "metadata": {},
   "outputs": [],
   "source": [
    "from pydantic import BaseModel\n",
    "from typing import List, Literal\n",
    "\n",
    "class QuizItem(BaseModel):\n",
    "    question: str\n",
    "    options: List[str] \n",
    "    correct_answer: Literal[\"A\", \"B\", \"C\", \"D\"]\n",
    "    explanation: str\n",
    "\n",
    "class QuizSet(BaseModel):\n",
    "    questions: List[QuizItem]"
   ]
  },
  {
   "cell_type": "code",
   "execution_count": 48,
   "id": "928583c0",
   "metadata": {},
   "outputs": [],
   "source": [
    "def chat(transcript_text) -> QuizSet:\n",
    "    messages = [{\"role\": \"system\", \"content\": system_prompt},\n",
    "                {\"role\": \"user\", \"content\": transcript_text}]\n",
    "    response = openai.beta.chat.completions.parse(\n",
    "        model=\"deepseek/deepseek-r1:free\",\n",
    "        messages=messages,\n",
    "        response_format=QuizSet\n",
    "    )\n",
    "    return response.choices[0].message.parsed\n"
   ]
  },
  {
   "cell_type": "code",
   "execution_count": 49,
   "id": "828cf57c",
   "metadata": {},
   "outputs": [],
   "source": [
    "response = chat(transcript_text)"
   ]
  },
  {
   "cell_type": "code",
   "execution_count": 50,
   "id": "3e1c7ce9",
   "metadata": {},
   "outputs": [
    {
     "name": "stdout",
     "output_type": "stream",
     "text": [
      "questions=[QuizItem(question='The instruction was to pay attention to my breath, and when my mind wandered, to ______.', options=['A. bring it back', 'B. let it wander', 'C. stop meditating', 'D. take a nap'], correct_answer='A', explanation=\"The correct answer is 'bring it back' as the transcript states the instruction was to bring the mind back when it wanders.\"), QuizItem(question='The speaker used ______ as an example of stress-triggered habits.', options=['A. exercising', 'B. drinking water', 'C. eating chocolate', 'D. reading books'], correct_answer='C', explanation='Eating chocolate is mentioned as a behavior learned through the reward process when feeling bad.'), QuizItem(question=\"What grammatical structure dominates in 'we've gone from learning to survive to literally killing ourselves'?\", options=['A. Present perfect continuous', 'B. Past simple', 'C. Present perfect', 'D. Future perfect'], correct_answer='C', explanation=\"The phrase uses present perfect tense ('have gone') to show a completed action with present relevance.\"), QuizItem(question=\"What does the phrase 'being curiously aware' imply in the context?\", options=['A. Ignoring sensations', 'B. Forcibly analyzing feelings', 'C. Observing experiences without judgment', 'D. Avoiding emotional triggers'], correct_answer='C', explanation=\"'Curiously aware' refers to mindful observation without trying to change the experience, as described in the mindfulness approach.\"), QuizItem(question=\"Which preposition correctly completes: 'We fall back ______ our old habits'?\", options=['A. to', 'B. into', 'C. with', 'D. from'], correct_answer='B', explanation=\"The correct preposition is 'into' as the phrase 'fall back into' means returning to previous behavior patterns.\"), QuizItem(question=\"What type of conditional is implied in 'What if instead we just got really curious...'?\", options=['A. First conditional', 'B. Second conditional', 'C. Third conditional', 'D. Zero conditional'], correct_answer='B', explanation='This is a second conditional structure (if + past simple) discussing hypothetical situations.'), QuizItem(question=\"What part of speech is 'disenchanted' in 'she became disenchanted with her behavior'?\", options=['A. Verb', 'B. Noun', 'C. Adjective', 'D. Adverb'], correct_answer='C', explanation=\"'Disenchanted' functions as an adjective describing her state regarding the behavior.\"), QuizItem(question=\"Which collocation best completes: 'The prefrontal cortex tries to help us ______ our behavior'?\", options=['A. repeat', 'B. control', 'C. understand', 'D. analyze'], correct_answer='B', explanation=\"'Control behavior' is the correct collocation used in discussions about cognitive functions.\"), QuizItem(question=\"The phrase 'bite-size pieces of experiences' uses which literary device?\", options=['A. Simile', 'B. Metaphor', 'C. Hyperbole', 'D. Personification'], correct_answer='B', explanation='This is a metaphor comparing manageable experiences to small food pieces.'), QuizItem(question=\"What tense is used in 'we let go of old habits and form new ones'?\", options=['A. Present continuous', 'B. Past simple', 'C. Present simple', 'D. Future perfect'], correct_answer='C', explanation='Present simple tense is used here describing habitual truths about behavioral changes.'), QuizItem(question=\"What does the abbreviation 'fMRI' stand for in related scientific context mentioned?\", options=['A. Functional Magnetic Resonance Imaging', 'B. Frequent Memory Recognition Interface', 'C. Fundamental Mental Response Indicator', 'D. Formal Medical Research Institute'], correct_answer='A', explanation='fMRI refers to Functional Magnetic Resonance Imaging, though not explicitly mentioned, but related to neuroscience discussions.')]\n"
     ]
    }
   ],
   "source": [
    "print(response)"
   ]
  },
  {
   "cell_type": "code",
   "execution_count": 2,
   "id": "88dd0866",
   "metadata": {},
   "outputs": [],
   "source": [
    "from dotenv import load_dotenv\n",
    "import os\n",
    "from ollama import Client"
   ]
  },
  {
   "cell_type": "code",
   "execution_count": 3,
   "id": "217620ce",
   "metadata": {},
   "outputs": [
    {
     "name": "stdout",
     "output_type": "stream",
     "text": [
      "The sky looks blue because of a phenomenon called **Rayleigh scattering**.\n",
      "\n",
      "### How it works\n",
      "\n",
      "1. **Sunlight is made of many colors.**  \n",
      "   Sunlight (white light) is actually a mixture of all the visible wavelengths, from short‑wavelength blue/violet light (~400 nm) to long‑wavelength red light (~700 nm).\n",
      "\n",
      "2. **The Earth's atmosphere is full of tiny particles.**  \n",
      "   Molecules of nitrogen, oxygen, and other gases are much smaller than the wavelength of visible light.\n",
      "\n",
      "3. **Shorter wavelengths scatter more.**  \n",
      "   When light encounters these tiny particles, it gets redirected (scattered) in many directions. The amount of scattering is inversely proportional to the fourth power of the wavelength (∝ 1/λ⁴). That means:\n",
      "   - Blue light (≈ 450 nm) is scattered about **10 times** more than red light (≈ 650 nm).\n",
      "   - Violet light scatters even more, but our eyes are less sensitive to violet and some of it is absorbed by the upper atmosphere.\n",
      "\n",
      "4. **We see the scattered light.**  \n",
      "   From any point on the ground, the light that reaches our eyes after being scattered by the atmosphere is dominated by the blue component, so the sky appears blue.\n",
      "\n",
      "### Why the sky changes color at sunrise and sunset\n",
      "\n",
      "When the Sun is low on the horizon, its light must travel through a much thicker layer of atmosphere. The longer path means that even more blue and violet light gets scattered out of the direct line of sight, leaving the longer‑wavelength reds and oranges to dominate the direct sunlight we see—hence the beautiful reds, oranges, and pinks of sunrise and sunset.\n",
      "\n",
      "### Quick summary\n",
      "\n",
      "- **Rayleigh scattering** makes shorter (blue) wavelengths bounce around the atmosphere more than longer (red) wavelengths.  \n",
      "- The scattered blue light reaches our eyes from every direction, giving the sky its characteristic color.  \n",
      "\n",
      "So, the sky is blue because the Earth's atmosphere preferentially scatters the blue portion of sunlight toward us."
     ]
    }
   ],
   "source": [
    "load_dotenv(override=True)\n",
    "\n",
    "client = Client(\n",
    "    host=\"https://ollama.com\",\n",
    "    headers={'Authorization': os.getenv(\"OLLAMA_API_KEY\")}\n",
    ")\n",
    "\n",
    "messages = [\n",
    "  {'role': 'user', 'content': 'Why is the sky blue?'},\n",
    "]\n",
    "\n",
    "# lấy phản hồi, có thể stream nếu muốn\n",
    "for part in client.chat('gpt-oss:120b', messages=messages, stream=True):\n",
    "    print(part['message']['content'], end='', flush=True)\n"
   ]
  }
 ],
 "metadata": {
  "kernelspec": {
   "display_name": "base",
   "language": "python",
   "name": "python3"
  },
  "language_info": {
   "codemirror_mode": {
    "name": "ipython",
    "version": 3
   },
   "file_extension": ".py",
   "mimetype": "text/x-python",
   "name": "python",
   "nbconvert_exporter": "python",
   "pygments_lexer": "ipython3",
   "version": "3.12.7"
  }
 },
 "nbformat": 4,
 "nbformat_minor": 5
}
